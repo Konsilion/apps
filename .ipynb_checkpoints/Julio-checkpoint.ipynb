{
 "cells": [
  {
   "cell_type": "markdown",
   "id": "91d0ca4b-c668-4918-b4ff-eb40f1d7a3ff",
   "metadata": {},
   "source": [
    "# Julio"
   ]
  },
  {
   "cell_type": "raw",
   "id": "e19e8df6-55be-427d-8dcc-f770b6ba8925",
   "metadata": {},
   "source": [
    "---\n",
    "title: Julio\n",
    "description: Définir la pertinence technique et éconmique d'une méthanisation domestique.\n",
    "show-code: False\n",
    "params:\n",
    "    filename:\n",
    "        label: Fichier des données d'entrées\n",
    "        input: file\n",
    "        maxFileSize: 5MB\n",
    "---"
   ]
  },
  {
   "cell_type": "code",
   "execution_count": 2,
   "id": "4a8f8866-8617-43a2-a6da-324b5dc859d9",
   "metadata": {},
   "outputs": [
    {
     "name": "stdout",
     "output_type": "stream",
     "text": [
      "5\n"
     ]
    }
   ],
   "source": [
    "a=2\n",
    "b=3\n",
    "c=a+b\n",
    "print(c)"
   ]
  },
  {
   "cell_type": "code",
   "execution_count": null,
   "id": "9b6bf8ae-1b8d-4ef5-9e7c-8050ffd5ea85",
   "metadata": {},
   "outputs": [],
   "source": []
  }
 ],
 "metadata": {
  "kernelspec": {
   "display_name": "Python 3 (ipykernel)",
   "language": "python",
   "name": "python3"
  },
  "language_info": {
   "codemirror_mode": {
    "name": "ipython",
    "version": 3
   },
   "file_extension": ".py",
   "mimetype": "text/x-python",
   "name": "python",
   "nbconvert_exporter": "python",
   "pygments_lexer": "ipython3",
   "version": "3.9.13"
  }
 },
 "nbformat": 4,
 "nbformat_minor": 5
}

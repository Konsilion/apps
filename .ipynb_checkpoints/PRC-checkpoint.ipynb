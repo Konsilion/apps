{
 "cells": [
  {
   "cell_type": "raw",
   "id": "99300f2a-64a4-4e22-89df-25b8cc498997",
   "metadata": {},
   "source": [
    "---\n",
    "title: PRC\n",
    "description: Définir les implications de concepts Low-tech.\n",
    "show-code: False\n",
    "params:\n",
    "    filename:\n",
    "        label: Importer le tableur mentionné\n",
    "        input: file\n",
    "        maxFileSize: 1MB\n",
    "    select_variable:\n",
    "        input: text\n",
    "        label: Par vos mots, qu'est ce que la Low-tech ?\n",
    "        value: politique\n",
    "        rows: 1\n",
    "---"
   ]
  },
  {
   "cell_type": "code",
   "execution_count": 2,
   "id": "92bc4f13-e60b-413d-bae9-c0f8b8f04079",
   "metadata": {
    "tags": [
     "hide_input"
    ]
   },
   "outputs": [],
   "source": [
    "# Import des donnees calc\n",
    "\n",
    "import pandas as pd\n",
    "import numpy as np\n",
    "from IPython.display import display, Markdown, Latex\n"
   ]
  },
  {
   "cell_type": "code",
   "execution_count": 3,
   "id": "ebb5b780-2ecc-4a01-8441-dabab4d5f9cd",
   "metadata": {},
   "outputs": [],
   "source": [
    "filename=\"./prc.xlsx\"\n",
    "select_variable=\"accessible\""
   ]
  },
  {
   "cell_type": "code",
   "execution_count": 4,
   "id": "783eba7e",
   "metadata": {
    "tags": [
     "hide_input",
     "remove_input"
    ]
   },
   "outputs": [],
   "source": [
    "# pd.set_option('display.float_format', '{:.1f}'.format)\n",
    "\n",
    "def variable_creation(filepath):\n",
    "    \n",
    "    # Lecture du tableau export_data du fichier filename.\n",
    "    df = pd.read_excel(filepath, sheet_name=\"export_data\",\n",
    "                             engine=\"openpyxl\").dropna(how='all')\n",
    "    df = df.to_numpy()\n",
    "    \n",
    "    # Initialisation tableau des variables à importer dans Jupyter.\n",
    "    dfi = [0]*(df.shape[0])\n",
    "    for i in range(0,df.shape[0]):\n",
    "\n",
    "        # Routine pour extraire et enregistrer les valeurs depuis le fichier Excel/Ods\n",
    "        name_sheet = df[i][2]\n",
    "        col_use = df[i][3]\n",
    "        skip_r = df[i][4]-1\n",
    "        n_row = df[i][5]   \n",
    "        # Extraction et création de la variable i du tableur --> python (numpy)\n",
    "        dfi[i] = pd.read_excel(filepath, \n",
    "                  sheet_name = name_sheet, \n",
    "                  skiprows = skip_r,  \n",
    "                  nrows= n_row, \n",
    "                  usecols = col_use,\n",
    "                  engine=\"openpyxl\").dropna(how='all')\n",
    "        dfi[i] = dfi[i].replace(np.nan, '', regex=True)\n",
    "        globals()[df[i][0]]=dfi[i].round(decimals = 4) \n",
    "        \n",
    "variable_creation(filename)"
   ]
  },
  {
   "cell_type": "code",
   "execution_count": 9,
   "id": "58ad8633-27c4-40ec-8ad7-e6314a4e9ac4",
   "metadata": {},
   "outputs": [],
   "source": [
    "result=tab_data[tab_data['Caractéristiques'].str.contains(select_variable, case=False,)].values.tolist()"
   ]
  },
  {
   "cell_type": "markdown",
   "id": "1475b4c7",
   "metadata": {
    "tags": []
   },
   "source": [
    "# **Définir la Low-tech selon vos termes**\n",
    "\n",
    "*Pour commencer, téléchargez ce [tableur]()* (bientôt terminée)\n",
    "\n",
    "---\n",
    "\n",
    "**Pourquoi être ici ?**\n",
    "\n",
    "Lorem ipsum dolor sit amet, consectetur adipiscing elit. In laoreet felis et neque sodales eleifend in vel nisl. Pellentesque quis mi arcu. Sed sagittis diam viverra sem commodo, id congue nisi volutpat. Vivamus nisl ex, luctus a felis in, gravida placerat purus. Fusce mollis nulla risus, non sollicitudin sapien mattis non. Nunc tempus aliquam lectus. \n",
    "\n",
    "Maecenas iaculis ipsum odio, eu ultricies dolor interdum eget. Ut venenatis molestie nibh, nec ultrices dui cursus id. Phasellus nec urna mollis, maximus lectus sit amet, tincidunt mi. Curabitur id nunc vitae nunc scelerisque scelerisque at ut orci. Aenean sit amet tristique arcu, id pellentesque ex.\n",
    "\n",
    "---"
   ]
  },
  {
   "cell_type": "code",
   "execution_count": 6,
   "id": "aa713ede-28c4-46b9-9553-b311cf6f6a5c",
   "metadata": {},
   "outputs": [
    {
     "data": {
      "text/markdown": [
       "## **Votre recherche porte sur :** accessible"
      ],
      "text/plain": [
       "<IPython.core.display.Markdown object>"
      ]
     },
     "metadata": {},
     "output_type": "display_data"
    }
   ],
   "source": [
    "def printmd(string):\n",
    "    display(Markdown(string))\n",
    "    \n",
    "search_aspect = (\"## **Votre recherche porte sur :** \" + select_variable)\n",
    "\n",
    "printmd(search_aspect)"
   ]
  },
  {
   "cell_type": "code",
   "execution_count": 7,
   "id": "383184b7-49fb-49c3-b1b3-2004ff95381a",
   "metadata": {},
   "outputs": [
    {
     "data": {
      "text/markdown": [
       "---"
      ],
      "text/plain": [
       "<IPython.core.display.Markdown object>"
      ]
     },
     "metadata": {},
     "output_type": "display_data"
    },
    {
     "data": {
      "text/markdown": [
       "**Accessible**"
      ],
      "text/plain": [
       "<IPython.core.display.Markdown object>"
      ]
     },
     "metadata": {},
     "output_type": "display_data"
    },
    {
     "data": {
      "text/markdown": [
       "  accessibility  by  supporting  not  only  the  accessibility  of  the  text  content  of  a  document,  but  also  the  accessibility  of  the  text  signals. -------------------------------------------------------  The  accessibility  of  documents  can  be  analyzed  in  the  following  four  dimensions:  technological (line.2),  legal (line.4),  economic (line.5) and social/ethical(line.3). "
      ],
      "text/plain": [
       "<IPython.core.display.Markdown object>"
      ]
     },
     "metadata": {},
     "output_type": "display_data"
    },
    {
     "data": {
      "text/markdown": [
       "---"
      ],
      "text/plain": [
       "<IPython.core.display.Markdown object>"
      ]
     },
     "metadata": {},
     "output_type": "display_data"
    },
    {
     "data": {
      "text/markdown": [
       "**Accessible au plus grand nombre**"
      ],
      "text/plain": [
       "<IPython.core.display.Markdown object>"
      ]
     },
     "metadata": {},
     "output_type": "display_data"
    },
    {
     "data": {
      "text/markdown": [
       "Social/ethical  issues :  of  document  accessibility  promote  equal  opportunities,  without  exclusion  and  are part of the Corporate Social Responsibility of an institution, either public or private."
      ],
      "text/plain": [
       "<IPython.core.display.Markdown object>"
      ]
     },
     "metadata": {},
     "output_type": "display_data"
    },
    {
     "data": {
      "text/markdown": [
       "---"
      ],
      "text/plain": [
       "<IPython.core.display.Markdown object>"
      ]
     },
     "metadata": {},
     "output_type": "display_data"
    },
    {
     "data": {
      "text/markdown": [
       "**Rend accessible l'information**"
      ],
      "text/plain": [
       "<IPython.core.display.Markdown object>"
      ]
     },
     "metadata": {},
     "output_type": "display_data"
    },
    {
     "data": {
      "text/markdown": [
       "Legal dimension: The  Convention  on  the  Rights  of  Persons  with  Disabilities of the United Nations, adopted on 13 Dec.  2006  by  the  General  Assembly  and  effective  from  3  May  2008,  and  specifically  Article  9,  is  the  main  international  legal  instrument  for  document  accessibility."
      ],
      "text/plain": [
       "<IPython.core.display.Markdown object>"
      ]
     },
     "metadata": {},
     "output_type": "display_data"
    },
    {
     "data": {
      "text/markdown": [
       "---"
      ],
      "text/plain": [
       "<IPython.core.display.Markdown object>"
      ]
     },
     "metadata": {},
     "output_type": "display_data"
    },
    {
     "data": {
      "text/markdown": [
       "**Accessible en coût**"
      ],
      "text/plain": [
       "<IPython.core.display.Markdown object>"
      ]
     },
     "metadata": {},
     "output_type": "display_data"
    },
    {
     "data": {
      "text/markdown": [
       "Economic  dimension :  of  document  accessibility include   on   one   hand   the   development   cost   of   accessible  documents  and  on  the  other  the  return  from their production and distribution (e.g. increase the range of possible customers and/or decrease the production  of  alternative  formats).  By  applying  the  universal design principle, the extra cost one has to spend  for  a  document  to  become  accessible  can  be  sufficiently    small.  "
      ],
      "text/plain": [
       "<IPython.core.display.Markdown object>"
      ]
     },
     "metadata": {},
     "output_type": "display_data"
    },
    {
     "data": {
      "text/markdown": [
       "---"
      ],
      "text/plain": [
       "<IPython.core.display.Markdown object>"
      ]
     },
     "metadata": {},
     "output_type": "display_data"
    },
    {
     "data": {
      "text/markdown": [
       "**Accessible à l'échelle individuelle**"
      ],
      "text/plain": [
       "<IPython.core.display.Markdown object>"
      ]
     },
     "metadata": {},
     "output_type": "display_data"
    },
    {
     "data": {
      "text/markdown": [
       "*à compléter*"
      ],
      "text/plain": [
       "<IPython.core.display.Markdown object>"
      ]
     },
     "metadata": {},
     "output_type": "display_data"
    },
    {
     "data": {
      "text/markdown": [
       "---"
      ],
      "text/plain": [
       "<IPython.core.display.Markdown object>"
      ]
     },
     "metadata": {},
     "output_type": "display_data"
    },
    {
     "data": {
      "text/markdown": [
       "**Utilise des outils accessibles**"
      ],
      "text/plain": [
       "<IPython.core.display.Markdown object>"
      ]
     },
     "metadata": {},
     "output_type": "display_data"
    },
    {
     "data": {
      "text/markdown": [
       "*à compléter*"
      ],
      "text/plain": [
       "<IPython.core.display.Markdown object>"
      ]
     },
     "metadata": {},
     "output_type": "display_data"
    }
   ],
   "source": [
    "for i in range(0,len(result)):\n",
    "    display(Markdown(\"---\"),\\\n",
    "            Markdown(result[i][0]),\\\n",
    "            Markdown(result[i][1]))"
   ]
  },
  {
   "cell_type": "markdown",
   "id": "58276ef5-ce89-4699-97eb-6b6105ffa1c3",
   "metadata": {},
   "source": [
    "---\n",
    "\n",
    "Ce document est régi par les termes de la licence juridique [Creative Commons CC-BY-SA 4.0](https://creativecommons.org/licenses/by-sa/4.0/deed.fr){target=}\n",
    "\n",
    "<img style=\"display: block; margin: 0 auto;\" src=\"https://mirrors.creativecommons.org/presskit/buttons/88x31/png/by-sa.png\" width=\"20%\">\n"
   ]
  },
  {
   "cell_type": "code",
   "execution_count": null,
   "id": "361babcf-d2c3-473b-b235-9163f2d47955",
   "metadata": {},
   "outputs": [],
   "source": []
  }
 ],
 "metadata": {
  "kernelspec": {
   "display_name": "Python 3 (ipykernel)",
   "language": "python",
   "name": "python3"
  },
  "language_info": {
   "codemirror_mode": {
    "name": "ipython",
    "version": 3
   },
   "file_extension": ".py",
   "mimetype": "text/x-python",
   "name": "python",
   "nbconvert_exporter": "python",
   "pygments_lexer": "ipython3",
   "version": "3.10.5"
  }
 },
 "nbformat": 4,
 "nbformat_minor": 5
}
